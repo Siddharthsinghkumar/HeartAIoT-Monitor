# anomaly_detection.ipynb

# Cell 1: Imports
import pandas as pd
from sklearn.ensemble import IsolationForest
import matplotlib.pyplot as plt

# Cell 2: Load data
df = pd.read_csv('../data/sample_heart_rate.csv', parse_dates=['timestamp'])
df['bpm'] = pd.to_numeric(df['bpm'], errors='coerce')

# Cell 3: Fit model
model = IsolationForest(contamination=0.1)
df['anomaly'] = model.fit_predict(df[['bpm']])

# Cell 4: Plot
plt.figure(figsize=(10, 4))
plt.plot(df['timestamp'], df['bpm'], label='Heart Rate')
plt.scatter(df['timestamp'][df['anomaly'] == -1], df['bpm'][df['anomaly'] == -1], color='red', label='Anomaly')
plt.legend()
plt.title('Heart Rate Anomaly Detection')
plt.show()
